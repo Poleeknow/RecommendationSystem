{
  "cells": [
    {
      "cell_type": "markdown",
      "metadata": {
        "id": "ktxdLosxtgZd"
      },
      "source": [
        "# Recommender Systems with Graph Neural Networks in PyG\n",
        "\n",
        "In this notebook was used materials from the tutorial By Derrick Li, Peter Maldonado, Akram Sbaih as part of the Stanford CS224W course project."
      ]
    },
    {
      "cell_type": "markdown",
      "metadata": {
        "id": "BoRvTQ1vtwcq"
      },
      "source": [
        "## Setup\n",
        "\n",
        "First, we'll install the necessary packages."
      ]
    },
    {
      "cell_type": "code",
      "execution_count": 795,
      "metadata": {
        "id": "4p_Pj_D7t3Rk"
      },
      "outputs": [],
      "source": [
        "# %%capture\n",
        "# # Environment Setup (note that capture silences the console output)\n",
        "# !pip install -q torch-scatter -f https://data.pyg.org/whl/torch-1.10.0+cu113.html\n",
        "# !pip install -q torch-sparse -f https://data.pyg.org/whl/torch-1.10.0+cu113.html\n",
        "# !pip install -q git+https://github.com/pyg-team/pytorch_geometric.git\n",
        "\n",
        "# !git clone https://github.com/pmaldonado/cs224w-project-data.git"
      ]
    },
    {
      "cell_type": "markdown",
      "metadata": {
        "id": "u_LPed5cuAEa"
      },
      "source": [
        "Next, let's import all of the modules that we'll use in this notebook."
      ]
    },
    {
      "cell_type": "code",
      "execution_count": 990,
      "metadata": {
        "id": "Y9fonQcxt3do"
      },
      "outputs": [],
      "source": [
        "# Standard library imports\n",
        "import random\n",
        "import time\n",
        "\n",
        "# Third-party imports\n",
        "import matplotlib.pyplot as plt\n",
        "import networkx as nx\n",
        "import numpy as np\n",
        "import pandas as pd\n",
        "pd.set_option('display.max_colwidth', None)\n",
        "\n",
        "import torch\n",
        "import torch.nn as nn\n",
        "import torch.nn.functional as F\n",
        "import torch.optim as optim\n",
        "# from torch.utils.data import Dataset, DataLoader\n",
        "import torch_geometric\n",
        "from torch_geometric.nn.conv import MessagePassing\n",
        "from torch_geometric.utils import degree\n",
        "\n",
        "from tqdm.notebook import tqdm\n",
        "from sklearn import preprocessing as pp\n",
        "from sklearn.model_selection import train_test_split\n",
        "import scipy.sparse as sp"
      ]
    },
    {
      "cell_type": "markdown",
      "metadata": {
        "id": "nzLUutf7uNAS"
      },
      "source": [
        "Lastly, we should double check that our environment is working as expected."
      ]
    },
    {
      "cell_type": "code",
      "execution_count": 991,
      "metadata": {
        "id": "J_CDy1cbuF4_"
      },
      "outputs": [
        {
          "data": {
            "text/plain": [
              "'2.4.0'"
            ]
          },
          "execution_count": 991,
          "metadata": {},
          "output_type": "execute_result"
        }
      ],
      "source": [
        "torch_geometric.__version__"
      ]
    },
    {
      "cell_type": "code",
      "execution_count": 992,
      "metadata": {
        "id": "b4pKT5jUt3pz"
      },
      "outputs": [
        {
          "data": {
            "text/plain": [
              "device(type='cpu')"
            ]
          },
          "execution_count": 992,
          "metadata": {},
          "output_type": "execute_result"
        }
      ],
      "source": [
        "device = torch.device(\"cuda:0\" if torch.cuda.is_available() else \"cpu\")\n",
        "device"
      ]
    },
    {
      "cell_type": "markdown",
      "metadata": {
        "id": "eYnQc9UH07Fg"
      },
      "source": [
        "## Dataset and Preprocessing\n"
      ]
    },
    {
      "cell_type": "code",
      "execution_count": 993,
      "metadata": {
        "id": "D13_omigmeOi"
      },
      "outputs": [
        {
          "name": "stdout",
          "output_type": "stream",
          "text": [
            "100000\n"
          ]
        },
        {
          "data": {
            "text/html": [
              "<div>\n",
              "<style scoped>\n",
              "    .dataframe tbody tr th:only-of-type {\n",
              "        vertical-align: middle;\n",
              "    }\n",
              "\n",
              "    .dataframe tbody tr th {\n",
              "        vertical-align: top;\n",
              "    }\n",
              "\n",
              "    .dataframe thead th {\n",
              "        text-align: right;\n",
              "    }\n",
              "</style>\n",
              "<table border=\"1\" class=\"dataframe\">\n",
              "  <thead>\n",
              "    <tr style=\"text-align: right;\">\n",
              "      <th></th>\n",
              "      <th>user id</th>\n",
              "      <th>item id</th>\n",
              "      <th>rating</th>\n",
              "      <th>timestamp</th>\n",
              "    </tr>\n",
              "  </thead>\n",
              "  <tbody>\n",
              "    <tr>\n",
              "      <th>0</th>\n",
              "      <td>196</td>\n",
              "      <td>242</td>\n",
              "      <td>3</td>\n",
              "      <td>881250949</td>\n",
              "    </tr>\n",
              "    <tr>\n",
              "      <th>1</th>\n",
              "      <td>186</td>\n",
              "      <td>302</td>\n",
              "      <td>3</td>\n",
              "      <td>891717742</td>\n",
              "    </tr>\n",
              "    <tr>\n",
              "      <th>2</th>\n",
              "      <td>22</td>\n",
              "      <td>377</td>\n",
              "      <td>1</td>\n",
              "      <td>878887116</td>\n",
              "    </tr>\n",
              "    <tr>\n",
              "      <th>3</th>\n",
              "      <td>244</td>\n",
              "      <td>51</td>\n",
              "      <td>2</td>\n",
              "      <td>880606923</td>\n",
              "    </tr>\n",
              "    <tr>\n",
              "      <th>4</th>\n",
              "      <td>166</td>\n",
              "      <td>346</td>\n",
              "      <td>1</td>\n",
              "      <td>886397596</td>\n",
              "    </tr>\n",
              "  </tbody>\n",
              "</table>\n",
              "</div>"
            ],
            "text/plain": [
              "   user id  item id  rating  timestamp\n",
              "0      196      242       3  881250949\n",
              "1      186      302       3  891717742\n",
              "2       22      377       1  878887116\n",
              "3      244       51       2  880606923\n",
              "4      166      346       1  886397596"
            ]
          },
          "metadata": {},
          "output_type": "display_data"
        }
      ],
      "source": [
        "u_data_columns = ['user id', 'item id', 'rating', 'timestamp']\n",
        "u_data = pd.read_csv(\"ml-100k/u.data\", sep=\"\\t\", names=u_data_columns)\n",
        "u_data.head()\n",
        "print(len(u_data))\n",
        "display(u_data.head(5))"
      ]
    },
    {
      "cell_type": "code",
      "execution_count": 994,
      "metadata": {},
      "outputs": [],
      "source": [
        "u1_train = pd.read_csv(\"ml-100k/u1.base\", sep=\"\\t\", names=u_data_columns)\n",
        "u2_train = pd.read_csv(\"ml-100k/u2.base\", sep=\"\\t\", names=u_data_columns)\n",
        "u3_train = pd.read_csv(\"ml-100k/u3.base\", sep=\"\\t\", names=u_data_columns)\n",
        "u4_train = pd.read_csv(\"ml-100k/u4.base\", sep=\"\\t\", names=u_data_columns)\n",
        "u5_train = pd.read_csv(\"ml-100k/u5.base\", sep=\"\\t\", names=u_data_columns)"
      ]
    },
    {
      "cell_type": "code",
      "execution_count": 995,
      "metadata": {},
      "outputs": [
        {
          "data": {
            "text/html": [
              "<div>\n",
              "<style scoped>\n",
              "    .dataframe tbody tr th:only-of-type {\n",
              "        vertical-align: middle;\n",
              "    }\n",
              "\n",
              "    .dataframe tbody tr th {\n",
              "        vertical-align: top;\n",
              "    }\n",
              "\n",
              "    .dataframe thead th {\n",
              "        text-align: right;\n",
              "    }\n",
              "</style>\n",
              "<table border=\"1\" class=\"dataframe\">\n",
              "  <thead>\n",
              "    <tr style=\"text-align: right;\">\n",
              "      <th></th>\n",
              "      <th>user id</th>\n",
              "      <th>item id</th>\n",
              "      <th>rating</th>\n",
              "      <th>timestamp</th>\n",
              "    </tr>\n",
              "  </thead>\n",
              "  <tbody>\n",
              "    <tr>\n",
              "      <th>0</th>\n",
              "      <td>1</td>\n",
              "      <td>3</td>\n",
              "      <td>4</td>\n",
              "      <td>878542960</td>\n",
              "    </tr>\n",
              "    <tr>\n",
              "      <th>1</th>\n",
              "      <td>1</td>\n",
              "      <td>13</td>\n",
              "      <td>5</td>\n",
              "      <td>875071805</td>\n",
              "    </tr>\n",
              "    <tr>\n",
              "      <th>2</th>\n",
              "      <td>1</td>\n",
              "      <td>15</td>\n",
              "      <td>5</td>\n",
              "      <td>875071608</td>\n",
              "    </tr>\n",
              "  </tbody>\n",
              "</table>\n",
              "</div>"
            ],
            "text/plain": [
              "   user id  item id  rating  timestamp\n",
              "0        1        3       4  878542960\n",
              "1        1       13       5  875071805\n",
              "2        1       15       5  875071608"
            ]
          },
          "execution_count": 995,
          "metadata": {},
          "output_type": "execute_result"
        }
      ],
      "source": [
        "u1_test = pd.read_csv(\"ml-100k/u1.test\", sep=\"\\t\", names=u_data_columns)\n",
        "u2_test = pd.read_csv(\"ml-100k/u2.test\", sep=\"\\t\", names=u_data_columns)\n",
        "u3_test = pd.read_csv(\"ml-100k/u3.test\", sep=\"\\t\", names=u_data_columns)\n",
        "u4_test = pd.read_csv(\"ml-100k/u4.test\", sep=\"\\t\", names=u_data_columns)\n",
        "u5_test = pd.read_csv(\"ml-100k/u5.test\", sep=\"\\t\", names=u_data_columns)\n",
        "u5_test.head(3)"
      ]
    },
    {
      "cell_type": "code",
      "execution_count": 996,
      "metadata": {},
      "outputs": [],
      "source": [
        "train_fold = [u1_train, u2_train, u3_train, u4_train, u5_train]\n",
        "test_fold = [u1_test, u2_test, u3_test, u4_test, u5_test]"
      ]
    },
    {
      "cell_type": "code",
      "execution_count": 1000,
      "metadata": {
        "id": "-WOF-cOAm5iO"
      },
      "outputs": [
        {
          "name": "stdout",
          "output_type": "stream",
          "text": [
            "Number of Unique Users :  943\n",
            "Number of unique Items :  1682\n"
          ]
        }
      ],
      "source": [
        "N_U = u_data['user id'].nunique()\n",
        "N_I = u_data['item id'].nunique()\n",
        "print(\"Number of Unique Users : \", N_U)\n",
        "print(\"Number of unique Items : \", N_I)"
      ]
    },
    {
      "cell_type": "code",
      "execution_count": null,
      "metadata": {},
      "outputs": [],
      "source": [
        "u_user_columns = ['user id', 'age', 'gender', 'occupation', 'zip code']\n",
        "u_user = pd.read_csv(\"ml-100k/u.user\", sep=\"|\", names=u_user_columns, encoding='latin-1')\n",
        "u_user.head(3)"
      ]
    },
    {
      "cell_type": "code",
      "execution_count": 1002,
      "metadata": {},
      "outputs": [],
      "source": [
        "def idx_columns(data):\n",
        "    le_user = pp.LabelEncoder()\n",
        "    le_item = pp.LabelEncoder()\n",
        "    data['user_id_idx'] = le_user.fit_transform(data['user id'].values)\n",
        "    data['item_id_idx'] = le_item.fit_transform(data['item id'].values)\n",
        "    return data"
      ]
    },
    {
      "cell_type": "code",
      "execution_count": 1003,
      "metadata": {},
      "outputs": [],
      "source": [
        "for i, data in enumerate(train_fold):\n",
        "    train_fold[i] = idx_columns(data)"
      ]
    },
    {
      "cell_type": "code",
      "execution_count": 1004,
      "metadata": {},
      "outputs": [
        {
          "data": {
            "text/html": [
              "<div>\n",
              "<style scoped>\n",
              "    .dataframe tbody tr th:only-of-type {\n",
              "        vertical-align: middle;\n",
              "    }\n",
              "\n",
              "    .dataframe tbody tr th {\n",
              "        vertical-align: top;\n",
              "    }\n",
              "\n",
              "    .dataframe thead th {\n",
              "        text-align: right;\n",
              "    }\n",
              "</style>\n",
              "<table border=\"1\" class=\"dataframe\">\n",
              "  <thead>\n",
              "    <tr style=\"text-align: right;\">\n",
              "      <th></th>\n",
              "      <th>user id</th>\n",
              "      <th>item id</th>\n",
              "      <th>rating</th>\n",
              "      <th>timestamp</th>\n",
              "      <th>user_id_idx</th>\n",
              "      <th>item_id_idx</th>\n",
              "    </tr>\n",
              "  </thead>\n",
              "  <tbody>\n",
              "    <tr>\n",
              "      <th>0</th>\n",
              "      <td>1</td>\n",
              "      <td>1</td>\n",
              "      <td>5</td>\n",
              "      <td>874965758</td>\n",
              "      <td>0</td>\n",
              "      <td>0</td>\n",
              "    </tr>\n",
              "    <tr>\n",
              "      <th>1</th>\n",
              "      <td>1</td>\n",
              "      <td>2</td>\n",
              "      <td>3</td>\n",
              "      <td>876893171</td>\n",
              "      <td>0</td>\n",
              "      <td>1</td>\n",
              "    </tr>\n",
              "    <tr>\n",
              "      <th>2</th>\n",
              "      <td>1</td>\n",
              "      <td>3</td>\n",
              "      <td>4</td>\n",
              "      <td>878542960</td>\n",
              "      <td>0</td>\n",
              "      <td>2</td>\n",
              "    </tr>\n",
              "    <tr>\n",
              "      <th>3</th>\n",
              "      <td>1</td>\n",
              "      <td>4</td>\n",
              "      <td>3</td>\n",
              "      <td>876893119</td>\n",
              "      <td>0</td>\n",
              "      <td>3</td>\n",
              "    </tr>\n",
              "    <tr>\n",
              "      <th>4</th>\n",
              "      <td>1</td>\n",
              "      <td>5</td>\n",
              "      <td>3</td>\n",
              "      <td>889751712</td>\n",
              "      <td>0</td>\n",
              "      <td>4</td>\n",
              "    </tr>\n",
              "    <tr>\n",
              "      <th>...</th>\n",
              "      <td>...</td>\n",
              "      <td>...</td>\n",
              "      <td>...</td>\n",
              "      <td>...</td>\n",
              "      <td>...</td>\n",
              "      <td>...</td>\n",
              "    </tr>\n",
              "    <tr>\n",
              "      <th>79995</th>\n",
              "      <td>943</td>\n",
              "      <td>1067</td>\n",
              "      <td>2</td>\n",
              "      <td>875501756</td>\n",
              "      <td>942</td>\n",
              "      <td>1060</td>\n",
              "    </tr>\n",
              "    <tr>\n",
              "      <th>79996</th>\n",
              "      <td>943</td>\n",
              "      <td>1074</td>\n",
              "      <td>4</td>\n",
              "      <td>888640250</td>\n",
              "      <td>942</td>\n",
              "      <td>1067</td>\n",
              "    </tr>\n",
              "    <tr>\n",
              "      <th>79997</th>\n",
              "      <td>943</td>\n",
              "      <td>1188</td>\n",
              "      <td>3</td>\n",
              "      <td>888640250</td>\n",
              "      <td>942</td>\n",
              "      <td>1180</td>\n",
              "    </tr>\n",
              "    <tr>\n",
              "      <th>79998</th>\n",
              "      <td>943</td>\n",
              "      <td>1228</td>\n",
              "      <td>3</td>\n",
              "      <td>888640275</td>\n",
              "      <td>942</td>\n",
              "      <td>1220</td>\n",
              "    </tr>\n",
              "    <tr>\n",
              "      <th>79999</th>\n",
              "      <td>943</td>\n",
              "      <td>1330</td>\n",
              "      <td>3</td>\n",
              "      <td>888692465</td>\n",
              "      <td>942</td>\n",
              "      <td>1318</td>\n",
              "    </tr>\n",
              "  </tbody>\n",
              "</table>\n",
              "<p>80000 rows × 6 columns</p>\n",
              "</div>"
            ],
            "text/plain": [
              "       user id  item id  rating  timestamp  user_id_idx  item_id_idx\n",
              "0            1        1       5  874965758            0            0\n",
              "1            1        2       3  876893171            0            1\n",
              "2            1        3       4  878542960            0            2\n",
              "3            1        4       3  876893119            0            3\n",
              "4            1        5       3  889751712            0            4\n",
              "...        ...      ...     ...        ...          ...          ...\n",
              "79995      943     1067       2  875501756          942         1060\n",
              "79996      943     1074       4  888640250          942         1067\n",
              "79997      943     1188       3  888640250          942         1180\n",
              "79998      943     1228       3  888640275          942         1220\n",
              "79999      943     1330       3  888692465          942         1318\n",
              "\n",
              "[80000 rows x 6 columns]"
            ]
          },
          "execution_count": 1004,
          "metadata": {},
          "output_type": "execute_result"
        }
      ],
      "source": [
        "train_fold[0]"
      ]
    },
    {
      "cell_type": "code",
      "execution_count": 1005,
      "metadata": {},
      "outputs": [],
      "source": [
        "u_data = idx_columns(u_data)"
      ]
    },
    {
      "cell_type": "code",
      "execution_count": 1006,
      "metadata": {},
      "outputs": [],
      "source": [
        "for i, data in enumerate(test_fold):\n",
        "    test_fold[i] = idx_columns(data)"
      ]
    },
    {
      "cell_type": "markdown",
      "metadata": {},
      "source": [
        "### Minibatch Sampling\n",
        "\n",
        "Explain the scheme of minibatch positive and negative sample in some amount of prose.\n",
        "\n",
        "We need to add `n_usr` to the sampled positive and negative items, since each node must have a unique id when using PyG."
      ]
    },
    {
      "cell_type": "code",
      "execution_count": 1007,
      "metadata": {
        "id": "NQRGy-CJnOkg"
      },
      "outputs": [
        {
          "data": {
            "text/plain": [
              "(tensor([ 43, 104, 126, 217, 284, 318, 434, 507, 521, 524, 585, 611, 634, 748,\n",
              "         878, 906]),\n",
              " tensor([1369, 1206, 1690,  950, 1127, 1211,  997, 1161, 1075, 1067, 1127, 1814,\n",
              "         1811, 1443,  957, 1179]),\n",
              " tensor([1697, 1430, 1650, 1064, 1746, 1614, 1054, 2264, 1670, 1359, 1035, 1979,\n",
              "         1087, 1689, 2515, 1054]))"
            ]
          },
          "execution_count": 1007,
          "metadata": {},
          "output_type": "execute_result"
        }
      ],
      "source": [
        "def data_loader(data, batch_size, n_usr=N_U, n_itm=N_I):\n",
        "    \n",
        "\n",
        "    def sample_neg(x):\n",
        "        while True:\n",
        "            neg_id = random.randint(0, n_itm - 1)\n",
        "            if neg_id not in x:\n",
        "                return neg_id\n",
        "\n",
        "    interected_items_df = data.groupby('user_id_idx')['item_id_idx'].apply(list).reset_index()\n",
        "    users = interected_items_df['user_id_idx'].sample(batch_size).values\n",
        "    \n",
        "    users.sort()\n",
        "    \n",
        "    pos_items = [random.choice(x) for x  in interected_items_df.query(\"`user_id_idx` in @users\")['item_id_idx']]\n",
        "    neg_items = [sample_neg(x) for x  in interected_items_df.query(\"`user_id_idx` in @users\")['item_id_idx']]\n",
        "    \n",
        "    return (\n",
        "        torch.LongTensor(list(users)).to(device),\n",
        "        torch.LongTensor(list(pos_items)).to(device) + n_usr,\n",
        "        torch.LongTensor(list(neg_items)).to(device) + n_usr\n",
        "    )\n",
        "\n",
        "data_loader(train_fold[0], 16)"
      ]
    },
    {
      "cell_type": "markdown",
      "metadata": {
        "id": "vjHZg1Eu-MKs"
      },
      "source": [
        "## Edge Index\n",
        "\n",
        "PyG represents graphs as sparse lists of node pairs. Since our graph is undirected, we need to include each edge twice, once for the edges from the users to the items and vice-versa.\n",
        "\n",
        "Similar to above, we add `n_users` to the item tensor to ensure that every node in the graph has a unique identifier."
      ]
    },
    {
      "cell_type": "code",
      "execution_count": 1009,
      "metadata": {},
      "outputs": [],
      "source": [
        "def create_edgeAttr(data):\n",
        "    u_t = torch.LongTensor(data['user_id_idx'])\n",
        "    i_t = torch.LongTensor(data['user_id_idx']) + N_U\n",
        "    rat = torch.LongTensor(data['rating'])\n",
        "\n",
        "    edge_index = torch.stack((\n",
        "    torch.cat([u_t, i_t]),\n",
        "    torch.cat([i_t, u_t])\n",
        "    )).to(device)\n",
        "\n",
        "    edge_weight = torch.cat((rat, rat)).to(device)\n",
        "    \n",
        "    return edge_index, edge_weight"
      ]
    },
    {
      "cell_type": "code",
      "execution_count": 1010,
      "metadata": {},
      "outputs": [
        {
          "name": "stdout",
          "output_type": "stream",
          "text": [
            "torch.Size([2, 200000]) torch.Size([200000])\n"
          ]
        }
      ],
      "source": [
        "main_edge_index, main_edge_weight = create_edgeAttr(u_data)\n",
        "print(main_edge_index.shape, main_edge_weight.shape)"
      ]
    },
    {
      "cell_type": "markdown",
      "metadata": {
        "id": "2ys1P7mtcr54"
      },
      "source": [
        "## Model Architecture"
      ]
    },
    {
      "cell_type": "markdown",
      "metadata": {
        "id": "0BIVMYyiyPHJ"
      },
      "source": [
        "### NGCF Layer\n",
        "\n",
        "NGCF is architecture that originated by researchers who applied [Graph Convolutional Networks (GCNs)]() to recommender systems.\n",
        "\n",
        "One layer of NGCF updates user and item embeddings as follows:\n",
        "\n",
        "$$e_{u}^{(k+1)} = \\sigma\\left(W_1 e_u^{(k)} + \\sum\\limits_{i \\in N_u} \\frac{1}{\\sqrt{|N_u|}\\sqrt{|N_i|}}(W_1e^{(k)}_i + W_2(e^{(k)}_i \\odot e^{(k)}_u))\\right)$$\n",
        "\n",
        "$$e_{i}^{(k+1)} = \\sigma\\left(W_1 e_i^{(k)} + \\sum\\limits_{u \\in N_i} \\frac{1}{\\sqrt{|N_i|}\\sqrt{|N_u|}}(W_1e^{(k)}_u + W_2(e^{(k)}_u \\odot e^{(k)}_i))\\right)$$\n",
        "\n",
        "Typically, NGCF is implemented with dropout before the activation and with an activation function $\\sigma$ of LeakyReLU."
      ]
    },
    {
      "cell_type": "code",
      "execution_count": 1013,
      "metadata": {
        "id": "u728UyYfOczG"
      },
      "outputs": [],
      "source": [
        "class NGCFConv(MessagePassing):\n",
        "  def __init__(self, latent_dim, dropout, bias=True, **kwargs):\n",
        "    super(NGCFConv, self).__init__(aggr='add', **kwargs)\n",
        "\n",
        "    self.dropout = dropout\n",
        "\n",
        "    self.lin_1 = nn.Linear(latent_dim, latent_dim, bias=bias)\n",
        "    self.lin_2 = nn.Linear(latent_dim, latent_dim, bias=bias)\n",
        "\n",
        "    self.init_parameters()\n",
        "\n",
        "\n",
        "  def init_parameters(self):\n",
        "    nn.init.xavier_uniform_(self.lin_1.weight)\n",
        "    nn.init.xavier_uniform_(self.lin_2.weight)\n",
        "\n",
        "\n",
        "  def forward(self, x, edge_index, edge_weight):\n",
        "    # Compute normalization\n",
        "    from_, to_ = edge_index\n",
        "    deg = degree(to_, x.size(0), dtype=x.dtype)\n",
        "    deg_inv_sqrt = deg.pow(-0.5)\n",
        "    deg_inv_sqrt[deg_inv_sqrt == float('inf')] = 0\n",
        "    norm = deg_inv_sqrt[from_] * deg_inv_sqrt[to_]\n",
        "    norm = norm * edge_weight\n",
        "\n",
        "    # Start propagating messages\n",
        "    out = self.propagate(edge_index, x=(x, x), norm=norm)\n",
        "\n",
        "    # Perform update after aggregation\n",
        "    out += self.lin_1(x)\n",
        "    out = F.dropout(out, self.dropout, self.training)\n",
        "    return F.leaky_relu(out)\n",
        "\n",
        "\n",
        "  def message(self, x_j, x_i, norm):\n",
        "    return norm.view(-1, 1) * (self.lin_1(x_j) + self.lin_2(x_j * x_i))"
      ]
    },
    {
      "cell_type": "markdown",
      "metadata": {
        "id": "I2tW9FJFqNjn"
      },
      "source": [
        "### Recommender System GNN\n",
        "\n",
        "For this tutorial, we will be using the following class, `RecSysGNN` in order to stack the NGCF or LightGCN convolutional layers. Some considerations that can be made for tweaking the models are the number of layers of your model and dropout. The more number of layers you add to the model, the more your model will \"diffuse\" information of recommendations made from nodes that are `n`-hops away in a model that uses `n` layers. Dropout can be tweaked to try out different regularization schemes.\n",
        "\n",
        "Notice that our forward function works differently from most neural networks by forward propagating embeddings for all nodes in the graph. This is because the embeddings for a given node depend on the embeddings of it's `n`-hop neighborhood, so they need to be propagated as well."
      ]
    },
    {
      "cell_type": "code",
      "execution_count": 1014,
      "metadata": {
        "id": "nT5LTkI8Ml1c"
      },
      "outputs": [],
      "source": [
        "class RecSysGNN(nn.Module):\n",
        "  def __init__(\n",
        "      self,\n",
        "      latent_dim,\n",
        "      num_layers,\n",
        "      num_users,\n",
        "      num_items,\n",
        "      model, # 'NGCF' or 'LightGCN'\n",
        "      dropout=0.1 # Only used in NGCF\n",
        "  ):\n",
        "    super(RecSysGNN, self).__init__()\n",
        "\n",
        "    self.model = model\n",
        "    self.embedding = nn.Embedding(num_users + num_items, latent_dim)\n",
        "\n",
        "    self.convs = nn.ModuleList(\n",
        "      NGCFConv(latent_dim, dropout=dropout) for _ in range(num_layers)\n",
        "    )\n",
        "\n",
        "    self.init_parameters()\n",
        "\n",
        "\n",
        "  def init_parameters(self):\n",
        "    nn.init.xavier_uniform_(self.embedding.weight, gain=1)\n",
        "\n",
        "\n",
        "  def forward(self, edge_index, edge_weight):\n",
        "    emb0 = self.embedding.weight\n",
        "    embs = [emb0]\n",
        "\n",
        "    emb = emb0\n",
        "    for conv in self.convs:\n",
        "      emb = conv(x=emb, edge_index=edge_index, edge_weight=edge_weight)\n",
        "      embs.append(emb)\n",
        "\n",
        "    out = (torch.cat(embs, dim=-1))\n",
        "\n",
        "    return emb0, out\n",
        "\n",
        "\n",
        "  def encode_minibatch(self, users, pos_items, neg_items, edge_index, edge_weight):\n",
        "    emb0, out = self(edge_index, edge_weight)\n",
        "    return (\n",
        "        out[users],\n",
        "        out[pos_items],\n",
        "        out[neg_items],\n",
        "        emb0[users],\n",
        "        emb0[pos_items],\n",
        "        emb0[neg_items]\n",
        "    )"
      ]
    },
    {
      "cell_type": "markdown",
      "metadata": {
        "id": "dyqEQ6kfCY5V"
      },
      "source": [
        "## Loss function and metrics\n",
        "\n",
        "here is implemented both the Bayesian Personalized Ranking loss function for a single minibatch of users, positive items, and negative items, as well as the precision@K and recall@K metrics."
      ]
    },
    {
      "cell_type": "code",
      "execution_count": 1015,
      "metadata": {
        "id": "bwrPmvXPow5q"
      },
      "outputs": [],
      "source": [
        "def compute_bpr_loss(users, users_emb, pos_emb, neg_emb, user_emb0,  pos_emb0, neg_emb0):\n",
        "  # compute loss from initial embeddings, used for regulization\n",
        "  reg_loss = (1 / 2) * (\n",
        "    user_emb0.norm().pow(2) +\n",
        "    pos_emb0.norm().pow(2)  +\n",
        "    neg_emb0.norm().pow(2)\n",
        "  ) / float(len(users))\n",
        "\n",
        "  # compute BPR loss from user, positive item, and negative item embeddings\n",
        "  pos_scores = torch.mul(users_emb, pos_emb).sum(dim=1)\n",
        "  neg_scores = torch.mul(users_emb, neg_emb).sum(dim=1)\n",
        "\n",
        "  bpr_loss = torch.mean(F.softplus(neg_scores - pos_scores))\n",
        "\n",
        "  return bpr_loss, reg_loss"
      ]
    },
    {
      "cell_type": "code",
      "execution_count": 1016,
      "metadata": {
        "id": "oHuXurG8mezC"
      },
      "outputs": [],
      "source": [
        "def get_metrics(user_Embed_wts, item_Embed_wts, n_users, n_items, train_data, test_data, K):\n",
        "    test_user_ids = torch.LongTensor(test_data['user_id_idx'].unique())\n",
        "    # compute the score of all user-item pairs\n",
        "    relevance_score = torch.matmul(user_Embed_wts, torch.transpose(item_Embed_wts,0, 1))\n",
        "\n",
        "    # create dense tensor of all user-item interactions\n",
        "    i = torch.stack((\n",
        "      torch.LongTensor(train_data['user_id_idx'].values),\n",
        "      torch.LongTensor(train_data['item_id_idx'].values)\n",
        "    ))\n",
        "    v = torch.ones((len(train_data)), dtype=torch.float64)\n",
        "    interactions_t = torch.sparse.FloatTensor(i, v, (n_users, n_items))\\\n",
        "        .to_dense().to(device)\n",
        "\n",
        "    # mask out training user-item interactions from metric computation\n",
        "    relevance_score = torch.mul(relevance_score, (1 - interactions_t))\n",
        "\n",
        "    # compute top scoring items for each user\n",
        "    topk_relevance_indices = torch.topk(relevance_score, K).indices\n",
        "    topk_relevance_indices_df = pd.DataFrame(topk_relevance_indices.cpu().numpy(),columns =['top_indx_'+str(x+1) for x in range(K)])\n",
        "    topk_relevance_indices_df['user_ID'] = topk_relevance_indices_df.index\n",
        "    topk_relevance_indices_df['top_rlvnt_itm'] = topk_relevance_indices_df[['top_indx_'+str(x+1) for x in range(K)]].values.tolist()\n",
        "    topk_relevance_indices_df = topk_relevance_indices_df[['user_ID','top_rlvnt_itm']]\n",
        "\n",
        "    # measure overlap between recommended (top-scoring) and held-out user-item\n",
        "    # interactions\n",
        "    test_interacted_items = test_data.groupby('user_id_idx')['item_id_idx'].apply(list).reset_index()\n",
        "    metrics_df = pd.merge(test_interacted_items,topk_relevance_indices_df, how= 'left', left_on = 'user_id_idx',right_on = ['user_ID'])\n",
        "    metrics_df['intrsctn_itm'] = [list(set(a).intersection(b)) for a, b in zip(metrics_df['item_id_idx'], metrics_df.top_rlvnt_itm)]\n",
        "\n",
        "    metrics_df['recall'] = metrics_df.apply(lambda x : len(x['intrsctn_itm'])/len(x['item_id_idx']), axis = 1)\n",
        "    metrics_df['precision'] = metrics_df.apply(lambda x : len(x['intrsctn_itm'])/K, axis = 1)\n",
        "\n",
        "    return metrics_df['recall'].mean(), metrics_df['precision'].mean()"
      ]
    },
    {
      "cell_type": "markdown",
      "metadata": {
        "id": "_qOC3fF9m6cH"
      },
      "source": [
        "## Train and evaluate model\n",
        "\n",
        "Now that we've implemented NGCF in PyG, we can train and evaluate its performance!"
      ]
    },
    {
      "cell_type": "code",
      "execution_count": 1017,
      "metadata": {
        "id": "MZtgfxxIm5nL"
      },
      "outputs": [],
      "source": [
        "latent_dim = 64\n",
        "n_layers = 3\n",
        "\n",
        "EPOCHS = 3\n",
        "BATCH_SIZE = 224\n",
        "DECAY = 0.0001\n",
        "LR = 0.005\n",
        "K = 20"
      ]
    },
    {
      "cell_type": "code",
      "execution_count": 1019,
      "metadata": {},
      "outputs": [],
      "source": [
        "def train_one_fold(model, train, optimizer, epoch):\n",
        "    n_batch = int(len(train)/BATCH_SIZE)\n",
        "\n",
        "    final_loss_list = []\n",
        "    bpr_loss_list = []\n",
        "    reg_loss_list = []\n",
        "\n",
        "    model.train()\n",
        "    for batch_idx in tqdm(range(n_batch), total=n_batch, desc=f\"Train Epoch: {epoch}/{EPOCHS}\"):\n",
        "        optimizer.zero_grad()\n",
        "\n",
        "        users, pos_items, neg_items = data_loader(train, BATCH_SIZE)\n",
        "        users_emb, pos_emb, neg_emb, userEmb0,  posEmb0, negEmb0 = model.encode_minibatch(users, pos_items, neg_items, main_edge_index, main_edge_weight)\n",
        "\n",
        "        bpr_loss, reg_loss = compute_bpr_loss(\n",
        "            users, users_emb, pos_emb, neg_emb, userEmb0,  posEmb0, negEmb0\n",
        "        )\n",
        "        reg_loss = DECAY * reg_loss\n",
        "        final_loss = bpr_loss + reg_loss\n",
        "\n",
        "        final_loss.backward()\n",
        "        optimizer.step()\n",
        "\n",
        "        final_loss_list.append(final_loss.item())\n",
        "        bpr_loss_list.append(bpr_loss.item())\n",
        "        reg_loss_list.append(reg_loss.item())\n",
        "    \n",
        "    return final_loss_list, bpr_loss_list, reg_loss_list"
      ]
    },
    {
      "cell_type": "code",
      "execution_count": 1024,
      "metadata": {},
      "outputs": [],
      "source": [
        "from tqdm import tqdm\n",
        "\n",
        "def train_and_eval(model, optimizer, train):\n",
        "  loss_list_epoch = []\n",
        "  bpr_loss_list_epoch = []\n",
        "  reg_loss_list_epoch = []\n",
        "\n",
        "  recall_list = []\n",
        "  precision_list = []\n",
        "\n",
        "  i = 0\n",
        "  while True:\n",
        "      if i > EPOCHS:\n",
        "          break\n",
        "      \n",
        "      train_fs = train[:i%5] +train[i%5+1:] \n",
        "      val_f = train[i%5]\n",
        "\n",
        "      for train_f in train_fs:\n",
        "          final_loss_list, bpr_loss_list, reg_loss_list = train_one_fold(model, train_f, optimizer, i)\n",
        "\n",
        "      loss_list_epoch.append(round(np.mean(final_loss_list),4))\n",
        "      bpr_loss_list_epoch.append(round(np.mean(bpr_loss_list),4))\n",
        "      reg_loss_list_epoch.append(round(np.mean(reg_loss_list),4))\n",
        "\n",
        "      model.eval()\n",
        "      with torch.no_grad():\n",
        "          tqdm(range(1), total=1, desc=f\"Val Epoch: {i}/{EPOCHS}\")\n",
        "          _, out = model(main_edge_index, main_edge_weight)\n",
        "          final_user_Embed, final_item_Embed = torch.split(out, (N_U, N_I))\n",
        "          test_topK_recall,  test_topK_precision = get_metrics(\n",
        "            final_user_Embed, final_item_Embed, N_U, N_I, train_fs[i], val_f, K\n",
        "          )\n",
        "\n",
        "          recall_list.append(round(test_topK_recall,4))\n",
        "          precision_list.append(round(test_topK_precision,4))\n",
        "\n",
        "      i += 1\n",
        "\n",
        "  return (\n",
        "    loss_list_epoch,\n",
        "    bpr_loss_list_epoch,\n",
        "    reg_loss_list_epoch,\n",
        "    recall_list,\n",
        "    precision_list\n",
        "  )"
      ]
    },
    {
      "cell_type": "markdown",
      "metadata": {
        "id": "yl6OL1UPzqju"
      },
      "source": [
        "### Train and eval NGCF"
      ]
    },
    {
      "cell_type": "code",
      "execution_count": 1025,
      "metadata": {
        "id": "wwO_h55Jzj4J"
      },
      "outputs": [
        {
          "name": "stdout",
          "output_type": "stream",
          "text": [
            "Size of Learnable Embedding :  [torch.Size([2625, 64]), torch.Size([64, 64]), torch.Size([64]), torch.Size([64, 64]), torch.Size([64]), torch.Size([64, 64]), torch.Size([64]), torch.Size([64, 64]), torch.Size([64]), torch.Size([64, 64]), torch.Size([64]), torch.Size([64, 64]), torch.Size([64])]\n"
          ]
        }
      ],
      "source": [
        "ngcf = RecSysGNN(\n",
        "  latent_dim=latent_dim,\n",
        "  num_layers=n_layers,\n",
        "  num_users=N_U,\n",
        "  num_items=N_I,\n",
        "  model='NGCF'\n",
        ")\n",
        "ngcf.to(device)\n",
        "\n",
        "optimizer = torch.optim.Adam(ngcf.parameters(), lr=LR)\n",
        "print(\"Size of Learnable Embedding : \", [x.shape for x in list(ngcf.parameters())])"
      ]
    },
    {
      "cell_type": "code",
      "execution_count": 1026,
      "metadata": {
        "id": "KUtZEhAEzjrA"
      },
      "outputs": [
        {
          "name": "stderr",
          "output_type": "stream",
          "text": [
            "Train Epoch: 0/3:   0%|          | 0/357 [00:00<?, ?it/s]"
          ]
        },
        {
          "name": "stderr",
          "output_type": "stream",
          "text": [
            "Train Epoch: 0/3: 100%|██████████| 357/357 [07:48<00:00,  1.31s/it]\n",
            "Train Epoch: 0/3: 100%|██████████| 357/357 [06:43<00:00,  1.13s/it]\n",
            "Train Epoch: 0/3: 100%|██████████| 357/357 [06:38<00:00,  1.12s/it]\n",
            "Train Epoch: 0/3: 100%|██████████| 357/357 [07:23<00:00,  1.24s/it]\n",
            "Val Epoch: 0/3:   0%|          | 0/1 [00:00<?, ?it/s]\n",
            "Train Epoch: 1/3: 100%|██████████| 357/357 [07:48<00:00,  1.31s/it]\n",
            "Train Epoch: 1/3: 100%|██████████| 357/357 [07:11<00:00,  1.21s/it]\n",
            "Train Epoch: 1/3: 100%|██████████| 357/357 [05:45<00:00,  1.03it/s]\n",
            "Train Epoch: 1/3: 100%|██████████| 357/357 [06:32<00:00,  1.10s/it]\n",
            "Val Epoch: 1/3:   0%|          | 0/1 [00:00<?, ?it/s]\n",
            "Train Epoch: 2/3: 100%|██████████| 357/357 [07:10<00:00,  1.21s/it]\n",
            "Train Epoch: 2/3: 100%|██████████| 357/357 [07:36<00:00,  1.28s/it]\n",
            "Train Epoch: 2/3: 100%|██████████| 357/357 [07:06<00:00,  1.19s/it]\n",
            "Train Epoch: 2/3: 100%|██████████| 357/357 [08:00<00:00,  1.35s/it]\n",
            "Val Epoch: 2/3:   0%|          | 0/1 [00:00<?, ?it/s]\n",
            "Train Epoch: 3/3: 100%|██████████| 357/357 [07:07<00:00,  1.20s/it]\n",
            "Train Epoch: 3/3: 100%|██████████| 357/357 [06:37<00:00,  1.11s/it]\n",
            "Train Epoch: 3/3: 100%|██████████| 357/357 [06:30<00:00,  1.09s/it]\n",
            "Train Epoch: 3/3: 100%|██████████| 357/357 [06:28<00:00,  1.09s/it]\n",
            "Val Epoch: 3/3:   0%|          | 0/1 [00:00<?, ?it/s]\n"
          ]
        }
      ],
      "source": [
        "ngcf_loss, ngcf_bpr, ngcf_reg, ngcf_recall, ngcf_precision = train_and_eval(ngcf, optimizer, train_fold)"
      ]
    },
    {
      "cell_type": "code",
      "execution_count": 1029,
      "metadata": {
        "id": "ENivAkwTzjcP"
      },
      "outputs": [],
      "source": [
        "epoch_list = [(i+1) for i in range(EPOCHS+1)]"
      ]
    },
    {
      "cell_type": "code",
      "execution_count": 1030,
      "metadata": {
        "id": "3MxNmjo-T4mg"
      },
      "outputs": [
        {
          "data": {
            "text/plain": [
              "<matplotlib.legend.Legend at 0x29234ef8820>"
            ]
          },
          "execution_count": 1030,
          "metadata": {},
          "output_type": "execute_result"
        },
        {
          "data": {
            "image/png": "[encoded data removed]",
            "text/plain": [
              "<Figure size 640x480 with 1 Axes>"
            ]
          },
          "metadata": {},
          "output_type": "display_data"
        }
      ],
      "source": [
        "plt.plot(epoch_list, ngcf_loss, label='Total Training Loss')\n",
        "plt.plot(epoch_list, ngcf_bpr, label='BPR Training Loss')\n",
        "plt.plot(epoch_list, ngcf_reg, label='Reg Training Loss')\n",
        "\n",
        "plt.xlabel('Epoch')\n",
        "plt.ylabel('Loss')\n",
        "plt.legend()"
      ]
    },
    {
      "cell_type": "code",
      "execution_count": 1031,
      "metadata": {
        "id": "jnVhVglYpd7G"
      },
      "outputs": [
        {
          "data": {
            "text/plain": [
              "<matplotlib.legend.Legend at 0x2923a2d8910>"
            ]
          },
          "execution_count": 1031,
          "metadata": {},
          "output_type": "execute_result"
        },
        {
          "data": {
            "image/png": "[encoded data removed]",
            "text/plain": [
              "<Figure size 640x480 with 1 Axes>"
            ]
          },
          "metadata": {},
          "output_type": "display_data"
        }
      ],
      "source": [
        "plt.plot(epoch_list, ngcf_recall, label='Recall')\n",
        "plt.plot(epoch_list, ngcf_precision, label='Precision')\n",
        "plt.xlabel('Epoch')\n",
        "plt.ylabel('Metrics')\n",
        "plt.legend()"
      ]
    },
    {
      "cell_type": "code",
      "execution_count": 1032,
      "metadata": {},
      "outputs": [],
      "source": [
        "torch.save(ngcf.state_dict(), 'ngcf_vf.pt')"
      ]
    },
    {
      "cell_type": "markdown",
      "metadata": {
        "id": "6RNPSfjWjV25"
      },
      "source": [
        "## Paper References\n",
        "\n",
        "1. Harper, F. Maxwell, and Konstan, Joseph A. “The MovieLensDatasets: History and Context.” ACM Transactions on Interactive Intelligence Systems (TiiS) 5, 4. 2015.\n",
        "2. He, Xiangnan, et al. “LightGCN: Simplifying and powering graph convolution network for recommendation.” Proceedings of the 43rd International ACM SIGIR Conference on Research and Development in Information Retrieval. 2020.\n",
        "3. Wang, Xiang, et al. “Neural graph collaborative filtering.” Proceedings of the 42nd International ACM SIGIR Conference on Research and Development in Information Retrieval. 2019.\n",
        "\n",
        "## Code References\n",
        "\n",
        "We thank the authors of the following codebases and notebooks, from which parts of this tutorial were inspired or adapted.\n",
        "\n",
        "- https://www.kaggle.com/dipanjandas96/lightgcn-pytorch-from-scratch\n",
        "\n",
        "- https://github.com/gusye1234/LightGCN-PyTorch\n",
        "\n",
        "- https://github.com/SytzeAndr/NGCF_RP32/blob/hand-in/NGCF.ipynb\n"
      ]
    }
  ],
  "metadata": {
    "accelerator": "GPU",
    "colab": {
      "private_outputs": true,
      "provenance": []
    },
    "kernelspec": {
      "display_name": "Python 3",
      "name": "python3"
    },
    "language_info": {
      "codemirror_mode": {
        "name": "ipython",
        "version": 3
      },
      "file_extension": ".py",
      "mimetype": "text/x-python",
      "name": "python",
      "nbconvert_exporter": "python",
      "pygments_lexer": "ipython3",
      "version": "3.10.11"
    }
  },
  "nbformat": 4,
  "nbformat_minor": 0
}
